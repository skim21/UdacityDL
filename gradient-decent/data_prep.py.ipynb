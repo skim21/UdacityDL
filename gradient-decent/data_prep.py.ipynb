{
 "cells": [
  {
   "cell_type": "code",
   "execution_count": 8,
   "metadata": {
    "collapsed": false
   },
   "outputs": [
    {
     "name": "stdout",
     "output_type": "stream",
     "text": [
      "/Users/SKIM/JupyterNotebook/Udacity-ML-Google/gradient-decent\n",
      "   admit  gre   gpa  rank  rank_1  rank_2  rank_3  rank_4\n",
      "0      0  380  3.61     3     0.0     0.0     1.0     0.0\n",
      "1      1  660  3.67     3     0.0     0.0     1.0     0.0\n",
      "2      1  800  4.00     1     1.0     0.0     0.0     0.0\n",
      "3      1  640  3.19     4     0.0     0.0     0.0     1.0\n",
      "4      0  520  2.93     4     0.0     0.0     0.0     1.0\n",
      "   admit  gre   gpa  rank_1  rank_2  rank_3  rank_4\n",
      "0      0  380  3.61     0.0     0.0     1.0     0.0\n",
      "1      1  660  3.67     0.0     0.0     1.0     0.0\n",
      "2      1  800  4.00     1.0     0.0     0.0     0.0\n",
      "3      1  640  3.19     0.0     0.0     0.0     1.0\n",
      "4      0  520  2.93     0.0     0.0     0.0     1.0\n"
     ]
    }
   ],
   "source": [
    "import numpy as np\n",
    "import pandas as pd\n",
    "import os\n",
    "\n",
    "cur_dir = os.getcwd() \n",
    "print(cur_dir)\n",
    "admissions = pd.read_csv(cur_dir + '/binary.csv')\n",
    "\n",
    "# Make dummy variables for rank\n",
    "data = pd.concat([admissions, pd.get_dummies(admissions['rank'], prefix='rank')], axis=1)\n",
    "print(data.head())\n",
    "data = data.drop('rank', axis=1)\n",
    "print(data.head())"
   ]
  },
  {
   "cell_type": "code",
   "execution_count": 11,
   "metadata": {
    "collapsed": false
   },
   "outputs": [
    {
     "name": "stdout",
     "output_type": "stream",
     "text": [
      "     admit       gre       gpa  rank_1  rank_2  rank_3  rank_4\n",
      "154      0  0.244347  0.819196     0.0     0.0     1.0     0.0\n",
      "76       0 -0.268624 -0.051032     0.0     0.0     1.0     0.0\n",
      "341      1 -0.268624 -1.923339     0.0     0.0     1.0     0.0\n",
      "370      1 -0.439614  1.030160     0.0     1.0     0.0     0.0\n",
      "223      0  1.783262  0.239044     0.0     0.0     1.0     0.0\n",
      "[329 326  66  24 205 105 221  60 183 340 120  59 262 378 190   7 203 231\n",
      " 362 298 127 286  39 371 131  17 230 278 369 166 124  47 389 290 125  65\n",
      " 100 165 198  27 158 135 280  91 237  70 367 244  79 211 336 142 172 246\n",
      " 236 224  32 229 370 254 192 164  78 384 261  53 292 288 312  73 117 101\n",
      "  56 282 291 128 289 251 137 114 126  31 285 335 320 358 350 226 108  42\n",
      " 296 272 390 255 139 210  97 283 239  94 373 233 398   3 136 394 256 163\n",
      " 383  92 307 247 153 134 201 242 352  41 342 215 376 351  86 202  26 220\n",
      " 284 175 259  57  88  98 302 159 238  40 138  96 331 379 218  74  68 118\n",
      "  61 337 250 152 180 116 107 268 385  10 162 277 170 129 318  29 271 332\n",
      " 341 168 156  14 305  38 132 133 234  45 275 225  44 245  23  12  63 260\n",
      "  25 274   6 323 273  49 222 141 396 123 182 324 339  33 360 204 347 361\n",
      " 269 395 356  28  89 111 304 122 145 154 179 167 161 279  83 266 177 265\n",
      " 346   0 391  13 148 178  84 321 212 328 119 157  11 365 364   2 223 113\n",
      " 264   8 147  90 173  18 112 300   9 186 392  72 249 334 368   5  81 281\n",
      " 196  37  69 150 208 381  82 103 314 104 287  95  93 216 206 171 355 217\n",
      " 353 327 199 176  76 263 258 388 386 294 297 185 181  55  80 349 295 248\n",
      " 377   1 338]\n"
     ]
    }
   ],
   "source": [
    "# Standarize features\n",
    "for field in ['gre', 'gpa']:\n",
    "    mean, std = data[field].mean(), data[field].std()\n",
    "    data.loc[:,field] = (data[field]-mean)/std\n",
    "print(data.head())\n",
    "    \n",
    "# Split off random 10% of the data for testing\n",
    "np.random.seed(42)\n",
    "sample = np.random.choice(data.index, size=int(len(data)*0.9), replace=False)\n",
    "data, test_data = data.ix[sample], data.drop(sample)\n",
    "print(sample)\n",
    "\n",
    "# Split into features and targets\n",
    "features, targets = data.drop('admit', axis=1), data['admit']\n",
    "features_test, targets_test = test_data.drop('admit', axis=1), test_data['admit']"
   ]
  },
  {
   "cell_type": "code",
   "execution_count": 8,
   "metadata": {
    "collapsed": false
   },
   "outputs": [
    {
     "name": "stdout",
     "output_type": "stream",
     "text": [
      "('Train loss: ', 0.26276093849966364)\n",
      "('Train loss: ', 0.20928619409324895)\n",
      "('Train loss: ', 0.20084292908073417)\n",
      "('Train loss: ', 0.19862156475527884)\n",
      "('Train loss: ', 0.19779851396686018)\n",
      "('Train loss: ', 0.19742577912189863)\n",
      "('Train loss: ', 0.19723507746241065)\n",
      "('Train loss: ', 0.19712945625092465)\n",
      "('Train loss: ', 0.19706766341315074)\n",
      "('Train loss: ', 0.19703005801777368)\n",
      "Prediction accuracy: 0.725\n"
     ]
    }
   ],
   "source": [
    "import numpy as np\n",
    "from data_prep import features, targets, features_test, targets_test\n",
    "\n",
    "\n",
    "def sigmoid(x):\n",
    "    \"\"\"\n",
    "    Calculate sigmoid\n",
    "    \"\"\"\n",
    "    return 1 / (1 + np.exp(-x))\n",
    "\n",
    "# Use to same seed to make debugging easier\n",
    "np.random.seed(42)\n",
    "\n",
    "n_records, n_features = features.shape\n",
    "last_loss = None\n",
    "\n",
    "# Initialize weights\n",
    "weights = np.random.normal(scale=1/n_features**.5, size=n_features)\n",
    "\n",
    "# Neural Network parameters\n",
    "epochs = 1000\n",
    "learnrate = 0.5\n",
    "\n",
    "for e in range(epochs):\n",
    "    del_w = np.zeros(weights.shape)\n",
    "    for x, y in zip(features.values, targets):\n",
    "        # Loop through all records, x is the input, y is the target\n",
    "\n",
    "        # Activation of the output unit\n",
    "        output = sigmoid(np.dot(x, weights))\n",
    "\n",
    "        # The error, the target minues the network output\n",
    "        error = y - output\n",
    "\n",
    "        # The gradient descent step, the error times the gradient times the inputs\n",
    "        del_w += error * output * (1 - output) * x\n",
    "\n",
    "        # Update the weights here. The learning rate times the \n",
    "        # change in weights, divided by the number of records to average\n",
    "    weights += learnrate * del_w / n_records\n",
    "\n",
    "    # Printing out the mean square error on the training set\n",
    "    if e % (epochs / 10) == 0:\n",
    "        out = sigmoid(np.dot(features, weights))\n",
    "        loss = np.mean((out - targets) ** 2)\n",
    "        if last_loss and last_loss < loss:\n",
    "            print(\"Train loss: \", loss, \"  WARNING - Loss Increasing\")\n",
    "        else:\n",
    "            print(\"Train loss: \", loss)\n",
    "        last_loss = loss\n",
    "\n",
    "\n",
    "# Calculate accuracy on test data\n",
    "tes_out = sigmoid(np.dot(features_test, weights))\n",
    "predictions = tes_out > 0.5\n",
    "accuracy = np.mean(predictions == targets_test)\n",
    "print(\"Prediction accuracy: {:.3f}\".format(accuracy))"
   ]
  },
  {
   "cell_type": "code",
   "execution_count": null,
   "metadata": {
    "collapsed": true
   },
   "outputs": [],
   "source": []
  }
 ],
 "metadata": {
  "anaconda-cloud": {},
  "kernelspec": {
   "display_name": "Python [Root]",
   "language": "python",
   "name": "Python [Root]"
  },
  "language_info": {
   "codemirror_mode": {
    "name": "ipython",
    "version": 2
   },
   "file_extension": ".py",
   "mimetype": "text/x-python",
   "name": "python",
   "nbconvert_exporter": "python",
   "pygments_lexer": "ipython2",
   "version": "2.7.12"
  }
 },
 "nbformat": 4,
 "nbformat_minor": 0
}
